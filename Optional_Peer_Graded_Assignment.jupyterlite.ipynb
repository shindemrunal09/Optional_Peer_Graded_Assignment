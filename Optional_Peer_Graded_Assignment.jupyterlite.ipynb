{
  "metadata": {
    "kernelspec": {
      "name": "python",
      "display_name": "Python (Pyodide)",
      "language": "python"
    },
    "language_info": {
      "codemirror_mode": {
        "name": "python",
        "version": 3
      },
      "file_extension": ".py",
      "mimetype": "text/x-python",
      "name": "python",
      "nbconvert_exporter": "python",
      "pygments_lexer": "ipython3",
      "version": "3.8"
    }
  },
  "nbformat_minor": 4,
  "nbformat": 4,
  "cells": [
    {
      "cell_type": "markdown",
      "source": "<p style=\"text-align:center\">\n    <a href=\"https://skills.network/?utm_medium=Exinfluencer&utm_source=Exinfluencer&utm_content=000026UJ&utm_term=10006555&utm_id=NA-SkillsNetwork-Channel-SkillsNetworkCoursesIBMDeveloperSkillsNetworkST0151ENSkillsNetwork20531532-2022-01-01\" target=\"_blank\">\n    <img src=\"https://cf-courses-data.s3.us.cloud-object-storage.appdomain.cloud/assets/logos/SN_web_lightmode.png\" width=\"200\" alt=\"Skills Network Logo\"  />\n    </a>\n</p>\n\n",
      "metadata": {}
    },
    {
      "cell_type": "markdown",
      "source": "#### Import the required libraries we need for the lab.\n",
      "metadata": {}
    },
    {
      "cell_type": "code",
      "source": "import piplite\nawait piplite.install(['numpy'],['pandas'])\nawait piplite.install(['seaborn'])",
      "metadata": {
        "trusted": true
      },
      "outputs": [],
      "execution_count": null
    },
    {
      "cell_type": "code",
      "source": "import pandas as pd\nimport pandas as pd\nimport seaborn as sns\nimport matplotlib.pyplot as pyplot\nimport scipy.stats\nimport statsmodels.api as sm\nfrom statsmodels.formula.api import ols",
      "metadata": {
        "trusted": true
      },
      "outputs": [],
      "execution_count": null
    },
    {
      "cell_type": "markdown",
      "source": "#### Read the dataset in the csv file from the URL\n",
      "metadata": {}
    },
    {
      "cell_type": "code",
      "source": "from js import fetch\nimport io\n\nURL = 'https://cf-courses-data.s3.us.cloud-object-storage.appdomain.cloud/IBMDeveloperSkillsNetwork-ST0151EN-SkillsNetwork/labs/boston_housing.csv'\nresp = await fetch(URL)\nboston_url = io.BytesIO((await resp.arrayBuffer()).to_py())",
      "metadata": {
        "trusted": true
      },
      "outputs": [],
      "execution_count": null
    },
    {
      "cell_type": "code",
      "source": "boston_df=pd.read_csv(boston_url)",
      "metadata": {
        "trusted": true
      },
      "outputs": [],
      "execution_count": null
    },
    {
      "cell_type": "markdown",
      "source": "#### Add your code below following the instructions given in the course to complete the peer graded assignment\n",
      "metadata": {}
    },
    {
      "cell_type": "code",
      "source": "# Boxplot for Median Value of Owner-Occupied Homes (MEDV)\nplt.figure(figsize=(8, 6))\nsns.boxplot(x=boston_df['MEDV'])\nplt.title('Boxplot of Median Value of Owner-Occupied Homes (MEDV)')\nplt.xlabel('Median Value ($1000\\'s)')\nplt.show()\n\n# Bar plot for Charles River (CHAS) variable\nplt.figure(figsize=(8, 6))\nsns.countplot(x=boston_df['CHAS'])\nplt.title('Bar Plot of Charles River Proximity (CHAS)')\nplt.xlabel('Charles River (1 = bounds river, 0 = does not)')\nplt.ylabel('Frequency')\nplt.show()\n\n# Boxplot for MEDV vs Discretized AGE\nboston_df['AGE_Group'] = pd.cut(boston_df['AGE'], bins=[0, 35, 70, 100], labels=['35 years and younger', 'Between 35 and 70 years', '70 years and older'])\n\nplt.figure(figsize=(8, 6))\nsns.boxplot(x='AGE_Group', y='MEDV', data=boston_df)\nplt.title('Boxplot of MEDV vs AGE Groups')\nplt.xlabel('AGE Group')\nplt.ylabel('Median Value of Homes ($1000\\'s)')\nplt.show()\n\n# Scatter plot for Nitric Oxide (NOX) vs Non-retail business acres (INDUS)\nplt.figure(figsize=(8, 6))\nsns.scatterplot(x='NOX', y='INDUS', data=boston_df)\nplt.title('Scatter Plot of NOX vs INDUS')\nplt.xlabel('Nitric Oxide Concentration (parts per 10 million)')\nplt.ylabel('Proportion of Non-retail Business Acres per Town')\nplt.show()\n\n# Histogram for Pupil-Teacher Ratio (PTRATIO)\nplt.figure(figsize=(8, 6))\nsns.histplot(boston_df['PTRATIO'], kde=False, bins=20)\nplt.title('Histogram of Pupil-Teacher Ratio (PTRATIO)')\nplt.xlabel('Pupil-Teacher Ratio')\nplt.ylabel('Frequency')\nplt.show()",
      "metadata": {
        "trusted": true
      },
      "outputs": [],
      "execution_count": null
    },
    {
      "cell_type": "code",
      "source": "chas1 = boston_df[boston_df['CHAS'] == 1]['MEDV']\nchas0 = boston_df[boston_df['CHAS'] == 0]['MEDV']\n\nt_stat, p_value = stats.ttest_ind(chas1, chas0)\n\nprint('T-test Results for MEDV vs CHAS:')\nprint(f'T-statistic: {t_stat}, P-value: {p_value}')\n\nif p_value < 0.05:\n    print(\"Conclusion: Reject the null hypothesis, there is a significant difference in MEDV for houses bounded by the Charles River.\")\nelse:\n    print(\"Conclusion: Fail to reject the null hypothesis, there is no significant difference in MEDV for houses bounded by the Charles River.\")\n\n# Task 2: ANOVA for MEDV vs AGE groups\n\nanova_result = ols('MEDV ~ C(AGE_Group)', data=boston_df).fit()\nanova_table = sm.stats.anova_lm(anova_result, typ=2)\n\nprint(\"\\nANOVA Results for MEDV vs AGE Groups:\")\nprint(anova_table)\n\nif anova_table[\"PR(>F)\"][0] < 0.05:\n    print(\"Conclusion: Reject the null hypothesis, there is a significant difference in MEDV between AGE groups.\")\nelse:\n    print(\"Conclusion: Fail to reject the null hypothesis, no significant difference in MEDV between AGE groups.\")\n\n# Task 3: Pearson Correlation for NOX vs INDUS\n\ncorr_coeff, corr_p_value = stats.pearsonr(boston_df['NOX'], boston_df['INDUS'])\n\nprint(f\"\\nPearson Correlation for NOX and INDUS: {corr_coeff}, P-value: {corr_p_value}\")\n\nif corr_p_value < 0.05:\n    print(\"Conclusion: Reject the null hypothesis, there is a significant linear relationship between NOX and INDUS.\")\nelse:\n    print(\"Conclusion: Fail to reject the null hypothesis, no significant linear relationship between NOX and INDUS.\")\n\n# Task 4: Regression analysis for DIS (distance) and MEDV\n# Hypothesis:\n\nX = sm.add_constant(boston_df['DIS'])  # Adding constant term\ny = boston_df['MEDV']\nmodel = sm.OLS(y, X).fit()\n\nprint(\"\\nRegression Results for DIS vs MEDV:\")\nprint(model.summary())\n\nif model.pvalues['DIS'] < 0.05:\n    print(\"Conclusion: Reject the null hypothesis, DIS has a significant impact on MEDV.\")\nelse:\n    print(\"Conclusion: Fail to reject the null hypothesis, DIS does not have a significant impact on MEDV.\")",
      "metadata": {
        "trusted": true
      },
      "outputs": [],
      "execution_count": null
    },
    {
      "cell_type": "code",
      "source": "",
      "metadata": {
        "trusted": true
      },
      "outputs": [],
      "execution_count": null
    }
  ]
}